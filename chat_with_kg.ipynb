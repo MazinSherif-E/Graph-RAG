{
 "cells": [
  {
   "cell_type": "code",
   "execution_count": 1,
   "id": "efbb9a0a-59f4-4bf9-8186-4af17ae951dc",
   "metadata": {
    "height": 303
   },
   "outputs": [],
   "source": [
    "from dotenv import load_dotenv\n",
    "import os\n",
    "\n",
    "import textwrap\n",
    "\n",
    "# Langchain\n",
    "from langchain_community.graphs import Neo4jGraph\n",
    "from langchain_community.vectorstores import Neo4jVector\n",
    "from langchain_openai import OpenAIEmbeddings\n",
    "from langchain.chains import RetrievalQAWithSourcesChain\n",
    "from langchain.prompts.prompt import PromptTemplate\n",
    "from langchain.chains import GraphCypherQAChain\n",
    "from langchain_openai import ChatOpenAI\n",
    "\n",
    "# Warning control\n",
    "import warnings\n",
    "warnings.filterwarnings(\"ignore\")"
   ]
  },
  {
   "cell_type": "code",
   "execution_count": 2,
   "id": "0ff1dead-df1d-4e59-a3c1-42056a4ba091",
   "metadata": {
    "height": 338
   },
   "outputs": [],
   "source": [
    "# Load from environment\n",
    "load_dotenv('.env', override=True)\n",
    "NEO4J_URI = os.getenv('NEO4J_URI')\n",
    "NEO4J_USERNAME = os.getenv('NEO4J_USERNAME')\n",
    "NEO4J_PASSWORD = os.getenv('NEO4J_PASSWORD')\n",
    "NEO4J_DATABASE = os.getenv('NEO4J_DATABASE') or 'neo4j'\n",
    "OPENAI_API_KEY = os.getenv('OPENAI_API_KEY')\n",
    "\n",
    "# Note the code below is unique to this course environment, and not a \n",
    "# standard part of Neo4j's integration with OpenAI. Remove if running \n",
    "# in your own environment.\n",
    "OPENAI_ENDPOINT = os.getenv('OPENAI_BASE_URL') + '/embeddings'\n",
    "\n",
    "# Global constants\n",
    "VECTOR_INDEX_NAME = 'form_10k_chunks'\n",
    "VECTOR_NODE_LABEL = 'Chunk'\n",
    "VECTOR_SOURCE_PROPERTY = 'text'\n",
    "VECTOR_EMBEDDING_PROPERTY = 'textEmbedding'"
   ]
  },
  {
   "cell_type": "code",
   "execution_count": 3,
   "id": "4cf9637c-76f9-4d52-894b-4f01233055d5",
   "metadata": {
    "height": 83
   },
   "outputs": [],
   "source": [
    "kg = Neo4jGraph(\n",
    "    url=NEO4J_URI, username=NEO4J_USERNAME, password=NEO4J_PASSWORD, database=NEO4J_DATABASE\n",
    ")"
   ]
  },
  {
   "cell_type": "code",
   "execution_count": 4,
   "id": "48dfcba0-9d4c-49c3-87b8-9b9fb4b96c67",
   "metadata": {
    "height": 47
   },
   "outputs": [
    {
     "name": "stdout",
     "output_type": "stream",
     "text": [
      "Node properties are the following: Chunk {textEmbedding:\n",
      "LIST, f10kItem: STRING, chunkSeqId: INTEGER, text: STRING,\n",
      "cik: STRING, cusip6: STRING, names: LIST, formId: STRING,\n",
      "source: STRING, chunkId: STRING},Form {cusip6: STRING,\n",
      "names: LIST, formId: STRING, source: STRING},Company\n",
      "{location: POINT, cusip: STRING, names: LIST,\n",
      "companyAddress: STRING, companyName: STRING, cusip6:\n",
      "STRING},Manager {location: POINT, managerName: STRING,\n",
      "managerCik: STRING, managerAddress: STRING},Address\n",
      "{location: POINT, country: STRING, city: STRING, state:\n",
      "STRING} Relationship properties are the following: SECTION\n",
      "{f10kItem: STRING},OWNS_STOCK_IN {shares: INTEGER,\n",
      "reportCalendarOrQuarter: STRING, value: FLOAT} The\n",
      "relationships are the following: (:Chunk)-[:NEXT]-\n",
      ">(:Chunk),(:Chunk)-[:PART_OF]->(:Form),(:Form)-[:SECTION]-\n",
      ">(:Chunk),(:Company)-[:FILED]->(:Form),(:Company)-\n",
      "[:LOCATED_AT]->(:Address),(:Manager)-[:LOCATED_AT]-\n",
      ">(:Address),(:Manager)-[:OWNS_STOCK_IN]->(:Company)\n"
     ]
    }
   ],
   "source": [
    "kg.refresh_schema()\n",
    "print(textwrap.fill(kg.schema, 60))"
   ]
  },
  {
   "cell_type": "markdown",
   "id": "7121c96c-a5dc-4d91-b45f-e5aa53a4b4d7",
   "metadata": {},
   "source": [
    "- Check the address of a random Manager"
   ]
  },
  {
   "cell_type": "code",
   "execution_count": 5,
   "id": "6c50f182-f654-4684-b8e7-8cd6f1db1668",
   "metadata": {
    "height": 98
   },
   "outputs": [
    {
     "data": {
      "text/plain": [
       "[{'mgr': {'managerCik': '1424381',\n",
       "   'managerAddress': '650 Madison Avenue, 25th Floor, New York, NY, 10022',\n",
       "   'location': POINT(-73.9713457 40.7639879),\n",
       "   'managerName': 'LAKEWOOD CAPITAL MANAGEMENT, LP'},\n",
       "  'addr': {'country': 'United States',\n",
       "   'city': 'New York',\n",
       "   'location': POINT(-73.9821429 40.7584882),\n",
       "   'state': 'New York'}}]"
      ]
     },
     "execution_count": 5,
     "metadata": {},
     "output_type": "execute_result"
    }
   ],
   "source": [
    "kg.query(\"\"\"\n",
    "MATCH (mgr:Manager)-[:LOCATED_AT]->(addr:Address)\n",
    "RETURN mgr, addr\n",
    "LIMIT 1\n",
    "\"\"\")"
   ]
  },
  {
   "cell_type": "markdown",
   "id": "36877ab6-7d35-4da0-9934-a45b8f76a770",
   "metadata": {},
   "source": [
    "- Full text search for a manager named Royal Bank"
   ]
  },
  {
   "cell_type": "code",
   "execution_count": 6,
   "id": "bd26162c-10f8-4cfe-bc47-a63b1f169fd2",
   "metadata": {
    "height": 115
   },
   "outputs": [
    {
     "data": {
      "text/plain": [
       "[{'node.managerName': 'Royal Bank of Canada', 'score': 4.431276321411133}]"
      ]
     },
     "execution_count": 6,
     "metadata": {},
     "output_type": "execute_result"
    }
   ],
   "source": [
    "kg.query(\"\"\"\n",
    "  CALL db.index.fulltext.queryNodes(\n",
    "         \"fullTextManagerNames\", \n",
    "         \"royal bank\") YIELD node, score\n",
    "  RETURN node.managerName, score LIMIT 1\n",
    "\"\"\")"
   ]
  },
  {
   "cell_type": "markdown",
   "id": "616a7e3a-fd38-4168-9591-102718687635",
   "metadata": {},
   "source": [
    "- Find location of Royal Bank"
   ]
  },
  {
   "cell_type": "code",
   "execution_count": 7,
   "id": "fea0438a-e0bd-4a5a-8e74-7b7a923718b5",
   "metadata": {
    "height": 166
   },
   "outputs": [
    {
     "data": {
      "text/plain": [
       "[{'mgr.managerName': 'Royal Bank of Canada',\n",
       "  'addr': {'country': 'Canada',\n",
       "   'city': 'Toronto',\n",
       "   'location': POINT(-79.3805647 43.6508267),\n",
       "   'state': 'Ontario'}}]"
      ]
     },
     "execution_count": 7,
     "metadata": {},
     "output_type": "execute_result"
    }
   ],
   "source": [
    "kg.query(\"\"\"\n",
    "CALL db.index.fulltext.queryNodes(\n",
    "         \"fullTextManagerNames\", \n",
    "         \"royal bank\"\n",
    "  ) YIELD node, score\n",
    "WITH node as mgr LIMIT 1\n",
    "MATCH (mgr:Manager)-[:LOCATED_AT]->(addr:Address)\n",
    "RETURN mgr.managerName, addr\n",
    "\"\"\")"
   ]
  },
  {
   "cell_type": "markdown",
   "id": "5a2d0f56-0131-4e07-b2c1-e2ecb0075aa5",
   "metadata": {},
   "source": [
    "- Determine which state has the most investment firms"
   ]
  },
  {
   "cell_type": "code",
   "execution_count": 8,
   "id": "b0840ff4-c451-4e40-a4fc-18642d452afb",
   "metadata": {
    "height": 134
   },
   "outputs": [
    {
     "data": {
      "text/plain": [
       "[{'state': 'New York', 'numManagers': 304},\n",
       " {'state': 'California', 'numManagers': 302},\n",
       " {'state': 'Massachusetts', 'numManagers': 146},\n",
       " {'state': 'Pennsylvania', 'numManagers': 138},\n",
       " {'state': 'Texas', 'numManagers': 125},\n",
       " {'state': 'Illinois', 'numManagers': 121},\n",
       " {'state': 'Florida', 'numManagers': 115},\n",
       " {'state': 'Connecticut', 'numManagers': 77},\n",
       " {'state': 'Ohio', 'numManagers': 76},\n",
       " {'state': 'New Jersey', 'numManagers': 69}]"
      ]
     },
     "execution_count": 8,
     "metadata": {},
     "output_type": "execute_result"
    }
   ],
   "source": [
    "kg.query(\"\"\"\n",
    "  MATCH p=(:Manager)-[:LOCATED_AT]->(address:Address)\n",
    "  RETURN address.state as state, count(address.state) as numManagers\n",
    "    ORDER BY numManagers DESC\n",
    "    LIMIT 10\n",
    "\"\"\")"
   ]
  },
  {
   "cell_type": "markdown",
   "id": "79c150e6-76bb-416f-aa39-393ac250ce5f",
   "metadata": {},
   "source": [
    "- Determine which state has the most companies"
   ]
  },
  {
   "cell_type": "code",
   "execution_count": 9,
   "id": "8696d17b-7f0d-4f67-b3e8-34c8dc04cb3e",
   "metadata": {
    "height": 117
   },
   "outputs": [
    {
     "data": {
      "text/plain": [
       "[{'state': 'California', 'numCompanies': 7},\n",
       " {'state': 'Delaware', 'numCompanies': 1},\n",
       " {'state': 'New York', 'numCompanies': 1},\n",
       " {'state': 'Oregon', 'numCompanies': 1}]"
      ]
     },
     "execution_count": 9,
     "metadata": {},
     "output_type": "execute_result"
    }
   ],
   "source": [
    "kg.query(\"\"\"\n",
    "  MATCH p=(:Company)-[:LOCATED_AT]->(address:Address)\n",
    "  RETURN address.state as state, count(address.state) as numCompanies\n",
    "    ORDER BY numCompanies DESC\n",
    "\"\"\")"
   ]
  },
  {
   "cell_type": "markdown",
   "id": "f700c3f8-b0b1-42b2-a292-41b92784d027",
   "metadata": {},
   "source": [
    "- What are the cities in California with the most investment firms?"
   ]
  },
  {
   "cell_type": "code",
   "execution_count": 10,
   "id": "8343409c-8e93-4463-9499-94d0c27aa73e",
   "metadata": {
    "height": 151
   },
   "outputs": [
    {
     "data": {
      "text/plain": [
       "[{'city': 'San Francisco', 'numManagers': 48},\n",
       " {'city': 'Los Angeles', 'numManagers': 44},\n",
       " {'city': 'San Diego', 'numManagers': 17},\n",
       " {'city': 'Pasadena', 'numManagers': 13},\n",
       " {'city': 'Menlo Park', 'numManagers': 9},\n",
       " {'city': 'Newport Beach', 'numManagers': 9},\n",
       " {'city': 'Irvine', 'numManagers': 9},\n",
       " {'city': 'Walnut Creek', 'numManagers': 8},\n",
       " {'city': 'Palo Alto', 'numManagers': 6},\n",
       " {'city': 'Lafayette', 'numManagers': 6}]"
      ]
     },
     "execution_count": 10,
     "metadata": {},
     "output_type": "execute_result"
    }
   ],
   "source": [
    "kg.query(\"\"\"\n",
    "  MATCH p=(:Manager)-[:LOCATED_AT]->(address:Address)\n",
    "         WHERE address.state = 'California'\n",
    "  RETURN address.city as city, count(address.city) as numManagers\n",
    "    ORDER BY numManagers DESC\n",
    "    LIMIT 10\n",
    "\"\"\")"
   ]
  },
  {
   "cell_type": "markdown",
   "id": "9cbd5777-7663-4941-98d2-8649e4e4d410",
   "metadata": {},
   "source": [
    "- Which city in California has the most companies listed?"
   ]
  },
  {
   "cell_type": "code",
   "execution_count": 11,
   "id": "1a978b52-a0e2-4ace-8002-b4e92fc6f7a5",
   "metadata": {
    "height": 134
   },
   "outputs": [
    {
     "data": {
      "text/plain": [
       "[{'city': 'Santa Clara', 'numCompanies': 3},\n",
       " {'city': 'San Jose', 'numCompanies': 2},\n",
       " {'city': 'Sunnyvale', 'numCompanies': 1},\n",
       " {'city': 'Cupertino', 'numCompanies': 1}]"
      ]
     },
     "execution_count": 11,
     "metadata": {},
     "output_type": "execute_result"
    }
   ],
   "source": [
    "kg.query(\"\"\"\n",
    "  MATCH p=(:Company)-[:LOCATED_AT]->(address:Address)\n",
    "         WHERE address.state = 'California'\n",
    "  RETURN address.city as city, count(address.city) as numCompanies\n",
    "    ORDER BY numCompanies DESC\n",
    "\"\"\")"
   ]
  },
  {
   "cell_type": "markdown",
   "id": "e377e9ea-824e-4a98-a6ae-fdcd8f8f740d",
   "metadata": {},
   "source": [
    "- What are top investment firms in San Francisco?"
   ]
  },
  {
   "cell_type": "code",
   "execution_count": 12,
   "id": "bf979e5f-2e46-46f2-a0a0-4cfb011b3640",
   "metadata": {
    "height": 168
   },
   "outputs": [
    {
     "data": {
      "text/plain": [
       "[{'mgr.managerName': 'Dodge & Cox', 'totalInvestmentValue': 3889236092000.0},\n",
       " {'mgr.managerName': 'WELLS FARGO & COMPANY/MN',\n",
       "  'totalInvestmentValue': 2177580039000.0},\n",
       " {'mgr.managerName': 'CHARLES SCHWAB INVESTMENT MANAGEMENT INC',\n",
       "  'totalInvestmentValue': 1944847519000.0},\n",
       " {'mgr.managerName': 'Parallax Volatility Advisers, L.P.',\n",
       "  'totalInvestmentValue': 694023723000.0},\n",
       " {'mgr.managerName': 'PARNASSUS INVESTMENTS, LLC',\n",
       "  'totalInvestmentValue': 211068925000.0},\n",
       " {'mgr.managerName': 'Spyglass Capital Management LLC',\n",
       "  'totalInvestmentValue': 98135259000.0},\n",
       " {'mgr.managerName': 'Valiant Capital Management, L.P.',\n",
       "  'totalInvestmentValue': 52124040000.0},\n",
       " {'mgr.managerName': 'Ensemble Capital Management, LLC',\n",
       "  'totalInvestmentValue': 42355370000.0},\n",
       " {'mgr.managerName': 'Woodline Partners LP',\n",
       "  'totalInvestmentValue': 41497384000.0},\n",
       " {'mgr.managerName': 'Alta Park Capital, LP',\n",
       "  'totalInvestmentValue': 38959909000.0}]"
      ]
     },
     "execution_count": 12,
     "metadata": {},
     "output_type": "execute_result"
    }
   ],
   "source": [
    "kg.query(\"\"\"\n",
    "  MATCH p=(mgr:Manager)-[:LOCATED_AT]->(address:Address),\n",
    "         (mgr)-[owns:OWNS_STOCK_IN]->(:Company)\n",
    "         WHERE address.city = \"San Francisco\"\n",
    "  RETURN mgr.managerName, sum(owns.value) as totalInvestmentValue\n",
    "    ORDER BY totalInvestmentValue DESC\n",
    "    LIMIT 10\n",
    "\"\"\")"
   ]
  },
  {
   "cell_type": "markdown",
   "id": "d723b3a2-25db-497c-ac23-b4ffb0afc657",
   "metadata": {},
   "source": [
    "- What companies are located in Santa Clara?"
   ]
  },
  {
   "cell_type": "code",
   "execution_count": 13,
   "id": "6b32ef15-05c6-43fb-a34a-536dfdfd8c07",
   "metadata": {
    "height": 98
   },
   "outputs": [
    {
     "data": {
      "text/plain": [
       "[{'com.companyName': 'PALO ALTO NETWORKS INC'},\n",
       " {'com.companyName': 'SEAGATE TECHNOLOGY'},\n",
       " {'com.companyName': 'ATLASSIAN CORP PLC'}]"
      ]
     },
     "execution_count": 13,
     "metadata": {},
     "output_type": "execute_result"
    }
   ],
   "source": [
    "kg.query(\"\"\"\n",
    "  MATCH (com:Company)-[:LOCATED_AT]->(address:Address)\n",
    "         WHERE address.city = \"Santa Clara\"\n",
    "  RETURN com.companyName\n",
    "\"\"\")"
   ]
  },
  {
   "cell_type": "markdown",
   "id": "ab8a1379-d7c3-46a7-b730-13e1cc913027",
   "metadata": {},
   "source": [
    "- What companies are near Santa Clara?"
   ]
  },
  {
   "cell_type": "code",
   "execution_count": 14,
   "id": "61d92aea-e612-411c-8935-4087ce4a7247",
   "metadata": {
    "height": 132
   },
   "outputs": [
    {
     "data": {
      "text/plain": [
       "[{'com.companyName': 'PALO ALTO NETWORKS INC',\n",
       "  'com.companyAddress': '3000 Tannery Way, Santa Clara, CA 95054, USA'},\n",
       " {'com.companyName': 'GSI TECHNOLOGY INC',\n",
       "  'com.companyAddress': '1213 Elko Dr, Sunnyvale, CA 94089, USA'},\n",
       " {'com.companyName': 'SEAGATE TECHNOLOGY',\n",
       "  'com.companyAddress': '2445 Augustine Dr, Santa Clara, CA 95054, USA'},\n",
       " {'com.companyName': 'ATLASSIAN CORP PLC',\n",
       "  'com.companyAddress': '431 El Camino Real, Santa Clara, CA 95050, USA'},\n",
       " {'com.companyName': 'APPLE INC', 'com.companyAddress': 'Cupertino, CA, USA'}]"
      ]
     },
     "execution_count": 14,
     "metadata": {},
     "output_type": "execute_result"
    }
   ],
   "source": [
    "kg.query(\"\"\"\n",
    "  MATCH (sc:Address)\n",
    "    WHERE sc.city = \"Santa Clara\"\n",
    "  MATCH (com:Company)-[:LOCATED_AT]->(comAddr:Address)\n",
    "    WHERE point.distance(sc.location, comAddr.location) < 10000\n",
    "  RETURN com.companyName, com.companyAddress\n",
    "\"\"\")"
   ]
  },
  {
   "cell_type": "markdown",
   "id": "6222a9da-43de-4e95-882a-9de81c06c604",
   "metadata": {},
   "source": [
    "- What investment firms are near Santa Clara?"
   ]
  },
  {
   "cell_type": "code",
   "execution_count": 15,
   "id": "39f9dcb2-710c-429e-bdc6-5090a2ccb464",
   "metadata": {
    "height": 149
   },
   "outputs": [
    {
     "data": {
      "text/plain": [
       "[{'mgr.managerName': 'Mine & Arao Wealth Creation & Management, LLC.',\n",
       "  'mgr.managerAddress': '901 CAMPISI WAY, SUITE 140, CAMPBELL, CA, 95008'}]"
      ]
     },
     "execution_count": 15,
     "metadata": {},
     "output_type": "execute_result"
    }
   ],
   "source": [
    "kg.query(\"\"\"\n",
    "  MATCH (address:Address)\n",
    "    WHERE address.city = \"Santa Clara\"\n",
    "  MATCH (mgr:Manager)-[:LOCATED_AT]->(managerAddress:Address)\n",
    "    WHERE point.distance(address.location, \n",
    "        managerAddress.location) < 10000\n",
    "  RETURN mgr.managerName, mgr.managerAddress\n",
    "\"\"\")"
   ]
  },
  {
   "cell_type": "markdown",
   "id": "ae96ce5f-81fd-4465-9ad1-309154de3fe2",
   "metadata": {},
   "source": [
    "- Which investment firms are near Palo Alto Networks?\n",
    "- Note that full-text search is able to handle typos!"
   ]
  },
  {
   "cell_type": "code",
   "execution_count": 16,
   "id": "9f82d4ea-c8fc-4508-969a-163480469f12",
   "metadata": {
    "height": 302
   },
   "outputs": [
    {
     "data": {
      "text/plain": [
       "[{'mgr': {'managerCik': '1802994',\n",
       "   'managerAddress': '901 CAMPISI WAY, SUITE 140, CAMPBELL, CA, 95008',\n",
       "   'location': POINT(-121.9342655 37.2909459),\n",
       "   'managerName': 'Mine & Arao Wealth Creation & Management, LLC.'},\n",
       "  'distanceKm': 6}]"
      ]
     },
     "execution_count": 16,
     "metadata": {},
     "output_type": "execute_result"
    }
   ],
   "source": [
    "# Which investment firms are near Palo Aalto Networks?\n",
    "kg.query(\"\"\"\n",
    "  CALL db.index.fulltext.queryNodes(\n",
    "         \"fullTextCompanyNames\", \n",
    "         \"Palo Aalto Networks\"\n",
    "         ) YIELD node, score\n",
    "  WITH node as com\n",
    "  MATCH (com)-[:LOCATED_AT]->(comAddress:Address),\n",
    "    (mgr:Manager)-[:LOCATED_AT]->(mgrAddress:Address)\n",
    "    WHERE point.distance(comAddress.location, \n",
    "        mgrAddress.location) < 10000\n",
    "  RETURN mgr, \n",
    "    toInteger(point.distance(comAddress.location, \n",
    "        mgrAddress.location) / 1000) as distanceKm\n",
    "    ORDER BY distanceKm ASC\n",
    "    LIMIT 10\n",
    "\"\"\")"
   ]
  }
 ],
 "metadata": {
  "kernelspec": {
   "display_name": "Python 3 (ipykernel)",
   "language": "python",
   "name": "python3"
  },
  "language_info": {
   "codemirror_mode": {
    "name": "ipython",
    "version": 3
   },
   "file_extension": ".py",
   "mimetype": "text/x-python",
   "name": "python",
   "nbconvert_exporter": "python",
   "pygments_lexer": "ipython3",
   "version": "3.11.9"
  }
 },
 "nbformat": 4,
 "nbformat_minor": 5
}
